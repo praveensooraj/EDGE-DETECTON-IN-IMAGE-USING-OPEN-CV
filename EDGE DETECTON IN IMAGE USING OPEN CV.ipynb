{
 "cells": [
  {
   "cell_type": "code",
   "execution_count": 2,
   "id": "b167a044",
   "metadata": {},
   "outputs": [],
   "source": [
    "import cv2\n",
    "import numpy as np"
   ]
  },
  {
   "cell_type": "code",
   "execution_count": null,
   "id": "113edbd4",
   "metadata": {},
   "outputs": [],
   "source": [
    "image = cv2.imread('DSC00765.JPG')#read the image\n",
    "gray_image=cv2.cvtColor(image,cv2.COLOR_BGR2GRAY)#convert the image to grayscale\n",
    "edges=cv2.Canny(gray_image,50,150)#appply canny edge detcetion\n",
    "cv2.imshow('orginal image',image)\n",
    "cv2.imshow('edges',edges)\n",
    "cv2.waitKey(0)\n",
    "cv2.destroyAllwindows()"
   ]
  },
  {
   "cell_type": "code",
   "execution_count": null,
   "id": "cdfe396d",
   "metadata": {},
   "outputs": [],
   "source": []
  }
 ],
 "metadata": {
  "kernelspec": {
   "display_name": "Python 3 (ipykernel)",
   "language": "python",
   "name": "python3"
  },
  "language_info": {
   "codemirror_mode": {
    "name": "ipython",
    "version": 3
   },
   "file_extension": ".py",
   "mimetype": "text/x-python",
   "name": "python",
   "nbconvert_exporter": "python",
   "pygments_lexer": "ipython3",
   "version": "3.11.5"
  }
 },
 "nbformat": 4,
 "nbformat_minor": 5
}
